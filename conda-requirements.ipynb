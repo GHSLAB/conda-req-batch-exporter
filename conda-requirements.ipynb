{
 "cells": [
  {
   "cell_type": "code",
   "execution_count": 3,
   "metadata": {},
   "outputs": [
    {
     "data": {
      "text/plain": [
       "['arcgispro-py3',\n",
       " 'base',\n",
       " 'abm',\n",
       " 'agentpy',\n",
       " 'dash',\n",
       " 'dashllm',\n",
       " 'data',\n",
       " 'geo',\n",
       " 'gis',\n",
       " 'ha',\n",
       " 'mesa',\n",
       " 'ollama',\n",
       " 'paddle',\n",
       " 'plotly',\n",
       " 'qmt',\n",
       " 'streamlit',\n",
       " 'tts',\n",
       " 'vllm',\n",
       " 'yolo']"
      ]
     },
     "execution_count": 3,
     "metadata": {},
     "output_type": "execute_result"
    }
   ],
   "source": [
    "import subprocess\n",
    "import os\n",
    "\n",
    "# 创建 requirements 文件夹，如果不存在的话\n",
    "if not os.path.exists(\"requirements\"):\n",
    "    os.makedirs(\"requirements\")\n",
    "\n",
    "# 获取所有 Conda 环境的名称\n",
    "result = subprocess.run([\"conda\", \"env\", \"list\"], capture_output=True, text=True, check=True)\n",
    "lines = result.stdout.split(\"\\n\")[2:]  # 跳过前两行标题\n",
    "envs = [line.split()[0] for line in lines if line.strip()]\n",
    "envs"
   ]
  },
  {
   "cell_type": "code",
   "execution_count": 4,
   "metadata": {},
   "outputs": [
    {
     "name": "stdout",
     "output_type": "stream",
     "text": [
      "Exporting requirements for environment: arcgispro-py3\n",
      "Exporting requirements for environment: base\n",
      "Exporting requirements for environment: abm\n",
      "Exporting requirements for environment: agentpy\n",
      "Exporting requirements for environment: dash\n",
      "Exporting requirements for environment: dashllm\n",
      "Exporting requirements for environment: data\n",
      "Exporting requirements for environment: geo\n",
      "Exporting requirements for environment: gis\n",
      "Exporting requirements for environment: ha\n",
      "Exporting requirements for environment: mesa\n",
      "Exporting requirements for environment: ollama\n",
      "Exporting requirements for environment: paddle\n",
      "Exporting requirements for environment: plotly\n",
      "Exporting requirements for environment: qmt\n",
      "Exporting requirements for environment: streamlit\n",
      "Exporting requirements for environment: tts\n",
      "Exporting requirements for environment: vllm\n",
      "Exporting requirements for environment: yolo\n"
     ]
    }
   ],
   "source": [
    "# 遍历每个环境\n",
    "for env in envs:\n",
    "    print(f\"Exporting requirements for environment: {env}\")\n",
    "    # 构建保存文件的完整路径\n",
    "    output_file = os.path.join('requirements', f'{env}-requirements.txt')\n",
    "    # 构建 PowerShell 命令\n",
    "    command = f'conda activate {env}; if ($?) {{ pip freeze > \"{output_file}\" }}'\n",
    "    subprocess.run(['powershell', '-Command', command], shell=False)"
   ]
  },
  {
   "cell_type": "code",
   "execution_count": null,
   "metadata": {},
   "outputs": [],
   "source": []
  }
 ],
 "metadata": {
  "kernelspec": {
   "display_name": "dash",
   "language": "python",
   "name": "python3"
  },
  "language_info": {
   "codemirror_mode": {
    "name": "ipython",
    "version": 3
   },
   "file_extension": ".py",
   "mimetype": "text/x-python",
   "name": "python",
   "nbconvert_exporter": "python",
   "pygments_lexer": "ipython3",
   "version": "3.9.19"
  }
 },
 "nbformat": 4,
 "nbformat_minor": 2
}

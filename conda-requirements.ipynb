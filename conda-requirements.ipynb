{
 "cells": [
  {
   "cell_type": "code",
   "execution_count": 6,
   "metadata": {},
   "outputs": [
    {
     "data": {
      "text/plain": [
       "['arcgispro-py3',\n",
       " 'base',\n",
       " 'abm',\n",
       " 'agentpy',\n",
       " 'dash',\n",
       " 'dashllm',\n",
       " 'data',\n",
       " 'geo',\n",
       " 'gis',\n",
       " 'ha',\n",
       " 'mesa',\n",
       " 'ollama',\n",
       " 'paddle',\n",
       " 'plotly',\n",
       " 'qmt',\n",
       " 'streamlit',\n",
       " 'tts',\n",
       " 'vllm',\n",
       " 'yolo']"
      ]
     },
     "execution_count": 6,
     "metadata": {},
     "output_type": "execute_result"
    }
   ],
   "source": [
    "import subprocess\n",
    "import os\n",
    "\n",
    "# 获取所有 Conda 环境的名称\n",
    "result = subprocess.run(['conda', 'env', 'list'], capture_output=True, text=True)\n",
    "lines = result.stdout.split('\\n')[2:]  # 跳过前两行标题\n",
    "envs = [line.split()[0] for line in lines if line.strip()]\n",
    "envs"
   ]
  }
 ],
 "metadata": {
  "kernelspec": {
   "display_name": "base",
   "language": "python",
   "name": "python3"
  },
  "language_info": {
   "codemirror_mode": {
    "name": "ipython",
    "version": 3
   },
   "file_extension": ".py",
   "mimetype": "text/x-python",
   "name": "python",
   "nbconvert_exporter": "python",
   "pygments_lexer": "ipython3",
   "version": "3.10.14"
  }
 },
 "nbformat": 4,
 "nbformat_minor": 2
}

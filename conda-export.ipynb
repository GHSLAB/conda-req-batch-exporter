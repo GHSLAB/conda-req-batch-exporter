{
 "cells": [
  {
   "cell_type": "code",
   "execution_count": 1,
   "metadata": {},
   "outputs": [
    {
     "data": {
      "text/plain": [
       "['#',\n",
       " 'arcgispro-py3',\n",
       " 'base',\n",
       " 'abm',\n",
       " 'agentpy',\n",
       " 'dashllm',\n",
       " 'data',\n",
       " 'geo',\n",
       " 'gis',\n",
       " 'ha',\n",
       " 'iris',\n",
       " 'markitdown',\n",
       " 'mesa',\n",
       " 'mindmap',\n",
       " 'ollama',\n",
       " 'paddle',\n",
       " 'plotly',\n",
       " 'qmt',\n",
       " 'streamlit',\n",
       " 'tts',\n",
       " 'yolo']"
      ]
     },
     "execution_count": 1,
     "metadata": {},
     "output_type": "execute_result"
    }
   ],
   "source": [
    "import subprocess\n",
    "import os\n",
    "\n",
    "# 创建 requirements 文件夹，如果不存在的话\n",
    "if not os.path.exists(\"requirements\"):\n",
    "    os.makedirs(\"requirements\")\n",
    "\n",
    "# 获取所有 Conda 环境的名称\n",
    "result = subprocess.run([\"conda\", \"env\", \"list\"], capture_output=True, text=True, check=True)\n",
    "lines = result.stdout.split(\"\\n\")[2:]  # 跳过前两行标题\n",
    "envs = [line.split()[0] for line in lines if line.strip()]\n",
    "envs"
   ]
  },
  {
   "cell_type": "code",
   "execution_count": 7,
   "metadata": {},
   "outputs": [
    {
     "name": "stdout",
     "output_type": "stream",
     "text": [
      "Exporting conda.yml for environment: #\n",
      "Exporting conda.yml for environment: arcgispro-py3\n",
      "Exporting conda.yml for environment: base\n",
      "Exporting conda.yml for environment: abm\n",
      "Exporting conda.yml for environment: agentpy\n",
      "Exporting conda.yml for environment: dashllm\n",
      "Exporting conda.yml for environment: data\n",
      "Exporting conda.yml for environment: geo\n",
      "Exporting conda.yml for environment: gis\n",
      "Exporting conda.yml for environment: ha\n",
      "Exporting conda.yml for environment: iris\n",
      "Exporting conda.yml for environment: markitdown\n",
      "Exporting conda.yml for environment: mesa\n",
      "Exporting conda.yml for environment: mindmap\n",
      "Exporting conda.yml for environment: ollama\n",
      "Exporting conda.yml for environment: paddle\n",
      "Exporting conda.yml for environment: plotly\n",
      "Exporting conda.yml for environment: qmt\n",
      "Exporting conda.yml for environment: streamlit\n",
      "Exporting conda.yml for environment: tts\n",
      "Exporting conda.yml for environment: yolo\n"
     ]
    }
   ],
   "source": [
    "# 遍历每个环境\n",
    "for env in envs:\n",
    "    print(f\"Exporting conda.yml for environment: {env}\")\n",
    "\n",
    "    # 构建 PowerShell 命令\n",
    "    command = f'conda env export -n {env} > ./conda/{env}.yml'\n",
    "    subprocess.run(['powershell', '-Command', command], shell=False)"
   ]
  }
 ],
 "metadata": {
  "kernelspec": {
   "display_name": "base",
   "language": "python",
   "name": "python3"
  },
  "language_info": {
   "codemirror_mode": {
    "name": "ipython",
    "version": 3
   },
   "file_extension": ".py",
   "mimetype": "text/x-python",
   "name": "python",
   "nbconvert_exporter": "python",
   "pygments_lexer": "ipython3",
   "version": "3.10.14"
  }
 },
 "nbformat": 4,
 "nbformat_minor": 2
}
